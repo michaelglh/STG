{
  "cells": [
    {
      "cell_type": "markdown",
      "metadata": {
        "id": "4mPZ4suK5OgJ"
      },
      "source": [
        "# Lab 1: Computational neuron and simple motifs\n",
        "\n",
        "In this lab, we will move from a biological neuron to a simpler phenomenological neuron in which we retain the key features of a neuron i.e. spikes and spike patterns. \n",
        "\n",
        "We will use a neuron model called the adaptive leaky-and-integrate firing neuron. Using this neuron you will get more insights into the origin of different types of spikes patterns. Then we will construct small circuits with two or three neurons and you will see interaction among neurons. \n",
        "\n",
        "(Code by Lihao Guo, Questions by Arvind Kumar 2022. The tutorial is inspired by the Neuronal Dynamics book from Wulfram Gerstner, Werner M. Kistler, Richard Naud and Liam Paninski. https://neuronaldynamics.epfl.ch/online/index.html)"
      ]
    },
    {
      "cell_type": "code",
      "execution_count": null,
      "metadata": {
        "cellView": "form",
        "id": "bT9SPEg55IoV"
      },
      "outputs": [],
      "source": [
        "#@title Run the following to initialize lab environment.\n",
        "debug = 'google.colab' not in str(get_ipython())\n",
        "if not debug:\n",
        "    import os, sys\n",
        "\n",
        "    # clone respository\n",
        "    user = \"michaelglh\"\n",
        "    repo = \"STG\"\n",
        "    if os.path.isdir(repo):\n",
        "        !rm -rf {repo}\n",
        "    !git clone https://github.com/{user}/{repo}.git\n",
        "\n",
        "    # add path to system\n",
        "    src_dir = \"\"\n",
        "    path = f\"{repo}/{src_dir}\"\n",
        "    if not path in sys.path:\n",
        "        sys.path.insert(1, path)\n",
        "\n",
        "    from google.colab import output\n",
        "    output.enable_custom_widget_manager()\n",
        "\n",
        "    !pip install ipympl==0.8.0 --quiet\n",
        "\n",
        "    import matplotlib.backends"
      ]
    },
    {
      "cell_type": "code",
      "execution_count": null,
      "metadata": {
        "cellView": "form",
        "id": "weDD9htnp4Oj"
      },
      "outputs": [],
      "source": [
        "#@title Run the following to import necessary files.\n",
        "from lib.neuron import LIF\n",
        "from lib.input import Poisson_generator, Gaussian_generator, Current_injector\n",
        "from lib.conn import Simulator\n",
        "from lib.helper import plot_volt_trace\n",
        "\n",
        "import matplotlib.pyplot as plt         # import matplotlib\n",
        "import numpy as np                      # import numpy\n",
        "import ipywidgets as widgets            # interactive display\n",
        "my_layout = widgets.Layout()\n",
        "\n",
        "# setting for figures\n",
        "fig_w, fig_h = 8, 6\n",
        "my_fontsize = 18\n",
        "my_params = {'axes.labelsize': my_fontsize,\n",
        "          'axes.titlesize': my_fontsize,\n",
        "          'figure.figsize': (fig_w, fig_h),\n",
        "          'font.size': my_fontsize,\n",
        "          'legend.fontsize': my_fontsize-4,\n",
        "          'lines.markersize': 8.,\n",
        "          'lines.linewidth': 2.,\n",
        "          'xtick.labelsize': my_fontsize-2,\n",
        "          'ytick.labelsize': my_fontsize-2}\n",
        "\n",
        "plt.rcParams.update(my_params)\n",
        "\n",
        "# Auto Reloading\n",
        "%load_ext autoreload\n",
        "%autoreload 2\n",
        "%matplotlib widget"
      ]
    },
    {
      "cell_type": "markdown",
      "metadata": {
        "id": "88RerhDj5IoZ"
      },
      "source": [
        "### Firing patterns of single neuron\n",
        "\n",
        "Here we have a simple neuron model with 5 parameters. Two of them are just the parameters for LIF neuron and three of them captures the adaptation behavior. In addition to these parameters, the input level of current injection can be changes. So we essentially 6 parameters to control this single neuron.   \n",
        "\n",
        "John von Neumann famously said that with four parameters I can fit an elephant and with six I can make it wiggle its trunk. Well, let's see what we can do with six parameters in terms of generating biologically plausible firing patterns of a neuron."
      ]
    },
    {
      "cell_type": "code",
      "execution_count": null,
      "metadata": {
        "cellView": "form",
        "id": "qkgTfTVJ5Ioa"
      },
      "outputs": [],
      "source": [
        "#@title Run the following to start the simulation of single neuron { vertical-output: true }\n",
        "T, dt = 5e2, 0.1    # simulation period(ms), step size(ms)\n",
        "wt, dl = 1., 5.\n",
        "\n",
        "# simualtor\n",
        "h = Simulator(dt=dt)\n",
        "\n",
        "# neurons\n",
        "nrn = LIF(sim=h)\n",
        "nrn.g_L = 2.\n",
        "nrn.E_L = -70.\n",
        "nrn.V_th = -40.\n",
        "\n",
        "tonic_neuron = {'tau_m':20., 'a':0., 'tau_w':30., 'b':3., 'V_reset':-55.}\n",
        "adapting_neuron = {'tau_m':20., 'a':0., 'tau_w':100., 'b':0.5, 'V_reset':-55.}\n",
        "initburst_neuron = {'tau_m':10., 'a':0., 'tau_w':100., 'b':1., 'V_reset':-50.}\n",
        "bursting_neuron = {'tau_m':5., 'a':0., 'tau_w':100., 'b':1., 'V_reset':-46.}\n",
        "irregular_neuron = {'tau_m':10., 'a':-0.01, 'tau_w':50., 'b':1.2, 'V_reset':-46.}\n",
        "transient_neuron = {'tau_m':5., 'a':0.05, 'tau_w':100., 'b':0.7, 'V_reset':-60.}\n",
        "delayed_neuron = {'tau_m':5., 'a':-0.1, 'tau_w':100., 'b':1., 'V_reset':-60.}\n",
        "rebound_neuron = {'tau_m':5., 'a':0.2, 'tau_w':150., 'b':0.1, 'V_reset':-54.}\n",
        "\n",
        "neuron_params = {'tonic_neuron': tonic_neuron, 'adapting_neuron': adapting_neuron, \n",
        "                 'initburst_neuron': initburst_neuron, 'bursting_neuron': bursting_neuron, \n",
        "                 'irregular_neuron': irregular_neuron, 'transient_neuron': transient_neuron, \n",
        "                 'delayed_neuron': delayed_neuron, 'rebound_neuron': rebound_neuron, \n",
        "                 'my_neuron': tonic_neuron}\n",
        "\n",
        "# updating parameters\n",
        "def update(tau_m=20., a=0., tau_w=30., b=3., V_reset=-55., Icur=65., neuron_type='my_neuron'):\n",
        "    # simualtor\n",
        "    h = Simulator(dt=dt)\n",
        "\n",
        "    # create neuron\n",
        "    nrn = LIF(sim=h)\n",
        "    if neuron_type == 'my_neuron':\n",
        "      neuron_params['my_neuron'] = {'tau_m':tau_m, 'a':a, 'tau_w':tau_w, 'b':b, 'V_reset':V_reset}\n",
        "    nrn.update(neuron_params[neuron_type])\n",
        "\n",
        "    # constant current injection\n",
        "    cur_in = Current_injector(sim=h, rate=Icur, start=int(T/dt*0.25), end=int(T/dt*0.75))\n",
        "\n",
        "    # connect input to neuron\n",
        "    nrn.connect(cur_in, {'ctype':'Static', 'weight': wt, 'delay':dl}) \n",
        "\n",
        "    # simulate\n",
        "    h.run(T)\n",
        "\n",
        "    # visualize\n",
        "    plt.clf()\n",
        "    plt.title('firing patterns')\n",
        "    plt_par = {'dt':dt, 'range_t':np.arange(0., T, dt), 'V_th':nrn.V_th}\n",
        "    plot_volt_trace(plt_par, nrn.v, np.array(nrn.spikes['times']))\n",
        "    plt.xlim([0, T])\n",
        "\n",
        "    plt.tight_layout()\n",
        "\n",
        "fig = plt.figure(figsize=(8,5))\n",
        "widgets.interact(update, neuron_type=neuron_params.keys(), tau_m=(5.0, 20.0, 1.0), a=(-0.1, 1.0, 0.01), tau_w=(30., 150., 10.), b=(0., 3., 0.1), V_reset=(-60., -40., 2.), Icur=(-70., 70., 5.));"
      ]
    },
    {
      "cell_type": "markdown",
      "metadata": {
        "id": "_-mKeoopkDG4"
      },
      "source": [
        "## Describe\n",
        "- How are the adaptation parameters $a, b, \\tau_w$ affecting the membrane potential?\n",
        "- Can you tune all the six parameters to find some unique firing patterns? \n",
        "- What are the most important variables of the model, in the sense that they change the firing pattern in a qualitatively different manner e.g. from regular spiking to bursting?\n",
        "- Which other spike patterns you expected the model to exhibit but it could not?"
      ]
    },
    {
      "cell_type": "markdown",
      "metadata": {
        "id": "iEB3p9y--EZX"
      },
      "source": [
        "## THINK\n",
        "In the above you may have noticed that $V_{reset}$ and $\\tau_w$ are two interesting variable that can affect the firing pattern. \n",
        "\n",
        "- How do you think the variable $\\tau_w$ affects the firing pattern of the neuron. We can already tell you that $\\tau_w$ affects the dynamics of the variable $w$. But the question is whether $w$ is a positive contribution to the neuron membrane potential or negative? \n",
        "- We often try to describe a neuron with its input current and output firing rate curve. Can we define such a relationship for a neuron when it is either bursting or showing firing rate adapataion. If not, what can be do to describe the neuron's behavior?"
      ]
    },
    {
      "cell_type": "markdown",
      "metadata": {
        "id": "U_zFzHE1-Y0O"
      },
      "source": [
        "Neuron dynamaics: let's open the balckbox of the neuron\n",
        "\n",
        "$$\\tau_m \\frac{dV}{dt} = -(V-V_{rest}) + \\Delta_T exp(\\frac{V-V_{rh}}{\\Delta_T}) - Rw + RI(t)$$\n",
        "$$\\tau_w \\frac{dw}{dt} = a(V-V_{rest}) -w + b\n",
        "\\tau_w \\sum_{t^{(f)}} \\delta(t-t^{(f)})$$\n",
        "\n",
        "It's described by two variables $V$ and $w$ which denote the membrane potential and adaptation current. The parameters $a, b, \\tau_w$ controls the behavior of adaptation where $a$ controls sub-threshold adaptation and $b, \\tau_w$ controls spike adaptation. For detailed explanation of this mode, refer tht book we mentioned at the beginning."
      ]
    },
    {
      "cell_type": "markdown",
      "metadata": {
        "id": "4_UeczG75Ioc"
      },
      "source": [
        "### Functional neural motifs\n",
        "\n",
        "In this section, we move one step forward to connect those single neurons. What will happend with a pair of neurons? How about a triplet of neurons? Even more, a network of neurons?\n",
        "\n",
        "We'll start with a simple neuron pair motif to introduce basic ideas of circuit level interactions.\n",
        "\n",
        "<img src=\"https://github.com/michaelglh/STG/blob/master/figs/EI.png?raw=1\" alt=\"EI motif\" width=\"300\"/>"
      ]
    },
    {
      "cell_type": "code",
      "execution_count": null,
      "metadata": {
        "cellView": "form",
        "id": "Gkx_OHtL5Ioc"
      },
      "outputs": [],
      "source": [
        "#@title Run the following to start E-I pair simulation { vertical-output: true }\n",
        "# E-I motif\n",
        "N = 2                  # number of neurons\n",
        "wt, dl = 1, 5.\n",
        "rt = 65.\n",
        "\n",
        "# updating parameters\n",
        "def update_EI(Itype='Icur', neuron_E='tonic_neuron', neuron_I='tonic_neuron', J_ei=0., J_ie=0.):\n",
        "    # simualtor\n",
        "    h = Simulator(dt=dt)\n",
        "\n",
        "    # network of neurons\n",
        "    nrns = [LIF(sim=h) for _ in range(N)]\n",
        "\n",
        "    nrns[0].update(neuron_params[neuron_E])\n",
        "    nrns[1].update(neuron_params[neuron_I])\n",
        "\n",
        "    # background noise\n",
        "    if Itype == 'Icur':\n",
        "        noises = [Current_injector(sim=h, rate=rt, start=int(T/dt*0.25), end=int(T/dt*0.75)) for _ in range(N)]\n",
        "    elif Itype == 'Gaussian':\n",
        "        noises = [Gaussian_generator(sim=h, mean=rt, std=rt, start=int(T/dt*0.25), end=int(T/dt*0.75)) for _ in range(N)]\n",
        "    elif Itype == 'Poisson':\n",
        "        noises = [Poisson_generator(sim=h, rate=rt*3, start=int(T/dt*0.25), end=int(T/dt*0.75)) for _ in range(N)]\n",
        "    else:\n",
        "        print('Invalid input')\n",
        "    for noise, nrn in zip(noises, nrns):\n",
        "        nrn.connect(noise, {'ctype':'Static', 'weight':wt, 'delay':dl})\n",
        "\n",
        "    # recurrent connections\n",
        "    tps = [['Static']*N]*N\n",
        "    con = np.array([[0., J_ei],\n",
        "                    [J_ie, 0.]])\n",
        "    dly = np.random.uniform(2., 5., (N,N))\n",
        "    synspecs = [[{} for _ in range(N)] for _ in range(N)]\n",
        "    for i in range(N):\n",
        "        for j in range(N):\n",
        "            synspecs[i][j] = {'ctype':tps[i][j], 'weight':con[i,j], 'delay':dly[i,j]}\n",
        "    h.connect(nrns, nrns, synspecs)\n",
        "\n",
        "    # simulation\n",
        "    h.run(T)\n",
        "\n",
        "    # coincidence\n",
        "    binwindow = int(5.0/dt)\n",
        "    spike_trains = [nrn.states for nrn in nrns]\n",
        "    bin_spikes = [np.convolve(strain, np.ones(binwindow), 'same') for strain in spike_trains]\n",
        "    deltats = np.linspace(-10., 10., 21)\n",
        "    coins = []\n",
        "    for delay in deltats:\n",
        "        index = int(delay/dt)\n",
        "        if index > 0:\n",
        "            coins.append(np.dot(bin_spikes[0][:-index], bin_spikes[1][index:]))\n",
        "        elif index < 0:\n",
        "            coins.append(np.dot(bin_spikes[1][:index], bin_spikes[0][-index:]))\n",
        "        else:\n",
        "            coins.append(np.dot(bin_spikes[0], bin_spikes[1]))\n",
        "    coins = np.array(coins)/np.sqrt(np.dot(bin_spikes[0], bin_spikes[0]))/np.sqrt(np.dot(bin_spikes[1], bin_spikes[1]))\n",
        "\n",
        "    # visualize\n",
        "    plt.clf()\n",
        "    cs = ['b', 'r']\n",
        "    plt.subplot(2,N,1)\n",
        "    plt.title('raster')\n",
        "    for nrn, c, l in zip(nrns, cs, range(N)):\n",
        "        plt.eventplot(nrn.spikes['times'], lineoffsets=2*l, colors=c)\n",
        "    plt.xlabel('Time(ms)')\n",
        "    plt.yticks([0, 2], ['E', 'I'])\n",
        "    plt.xlim([0., T])\n",
        "\n",
        "    plt.subplot(2,N,2)\n",
        "    plt.title('spike correlation')\n",
        "    plt.plot(deltats, coins)\n",
        "    plt.xlabel(r'$\\delta t$(ms)')\n",
        "    plt.ylabel('spike corr')\n",
        "    plt.ylim([0, 1])\n",
        "\n",
        "    # voltage trace\n",
        "    for id, c in zip(range(N), cs):\n",
        "        plt.subplot(2,N,id+N+1)\n",
        "        if id == 0:\n",
        "            plt.title('voltage trace')\n",
        "        plt_par = {'dt':dt, 'range_t':np.arange(0., T, dt), 'V_th':nrns[id].V_th}\n",
        "        plot_volt_trace(plt_par, nrns[id].v, np.array(nrns[id].spikes['times']), c=c)\n",
        "        plt.xlim([0., T])\n",
        "\n",
        "    plt.tight_layout()\n",
        "\n",
        "fig_EI, axes = plt.subplots(2,N,figsize=(5*N,8))\n",
        "widgets.interact(update_EI, Itype=['Icur', 'Gaussian', 'Poisson'], \n",
        "                 neuron_E=neuron_params.keys(), neuron_I=neuron_params.keys(), \n",
        "                 J_ie=(0.0, 50.0, 0.1), J_ei=(-50., 0., 0.1));"
      ]
    },
    {
      "cell_type": "markdown",
      "metadata": {
        "id": "qnKcEw8t9FmS"
      },
      "source": [
        "## Describe\n",
        "- How are the excitatory and inhibitory synapse (connection) influence the rate of other neuron?\n",
        "- How does the spike correlation change and why? Does input type change the shape of correlation? \n",
        "- What pattern do you observe at the motif level? How about changing the neuron types?\n",
        "- If we drive the neurons with Poisson type inputs, they spike in an irregular manner. But can you find the connection weight which will make then spike in a periodic manner?"
      ]
    },
    {
      "cell_type": "markdown",
      "metadata": {
        "id": "UBEtnQJJ9FmT"
      },
      "source": [
        "## Think\n",
        "\n",
        "For a pair of neurons, the influence of connections is straight-forward. *How will the situation change if adding one more neuron?* In the lab, we introduce one arbitrary triplet motif with only inhibitory connections.\n",
        "\n",
        "<img src=\"https://github.com/michaelglh/STG/blob/master/figs/EII.png?raw=1\" alt=\"EII motif\" width=\"300\"/>"
      ]
    },
    {
      "cell_type": "code",
      "execution_count": null,
      "metadata": {
        "cellView": "form",
        "id": "9M9iiOjc5Iod"
      },
      "outputs": [],
      "source": [
        "#@title Run the following start E-I-I triplet simulation { vertical-output: true }\n",
        "# Triplet\n",
        "N = 3                  # number of neurons\n",
        "wt, dl = 1., 5.\n",
        "\n",
        "# updating parameters\n",
        "def update_EII(Itype='Icur', neuron_E='tonic_neuron', neuron_I1='tonic_neuron', neuron_I2='tonic_neuron', J_E1=0., J_E2=0., J_21=0.):\n",
        "    # simualtor\n",
        "    h = Simulator(dt=dt)\n",
        "\n",
        "    # network of neurons\n",
        "    nrns = [LIF(sim=h) for _ in range(N)]\n",
        "    nrns[0].update(neuron_params[neuron_E])\n",
        "    nrns[1].update(neuron_params[neuron_I1])\n",
        "    nrns[2].update(neuron_params[neuron_I2])\n",
        "\n",
        "    # background noise\n",
        "    if Itype == 'Icur':\n",
        "        noises = [Current_injector(sim=h, rate=rt, start=int(T/dt*0.25), end=int(T/dt*0.75)) for _ in range(N)]\n",
        "    elif Itype == 'Gaussian':\n",
        "        noises = [Gaussian_generator(sim=h, mean=rt, std=rt, start=int(T/dt*0.25), end=int(T/dt*0.75)) for _ in range(N)]\n",
        "    elif Itype == 'Poisson':\n",
        "        noises = [Poisson_generator(sim=h, rate=rt*3, start=int(T/dt*0.25), end=int(T/dt*0.75)) for _ in range(N)]\n",
        "    else:\n",
        "        print('Invalid input')\n",
        "    for noise, nrn in zip(noises, nrns):\n",
        "        nrn.connect(noise, {'ctype':'Static', 'weight':wt, 'delay':dl})\n",
        "\n",
        "    # recurrent connections\n",
        "    tps = [['Static']*N]*N\n",
        "    con = np.array([[0., J_E1, J_E2],\n",
        "                    [0., 0., 0.],\n",
        "                    [0., J_21, 0.]])\n",
        "    dly = np.random.uniform(2., 5., (N,N))\n",
        "    synspecs = [[{} for _ in range(N)] for _ in range(N)]\n",
        "    for i in range(N):\n",
        "        for j in range(N):\n",
        "            synspecs[i][j] = {'ctype':tps[i][j], 'weight':con[i,j], 'delay':dly[i,j]}\n",
        "    h.connect(nrns, nrns, synspecs)\n",
        "\n",
        "    # simulation\n",
        "    h.run(T)\n",
        "\n",
        "    # coincidence\n",
        "    binwindow = int(5.0/dt)\n",
        "    spike_trains = [nrn.states for nrn in nrns]\n",
        "    bin_spikes = [np.convolve(strain, np.ones(binwindow), 'same') for strain in spike_trains]\n",
        "    deltats = np.linspace(-10., 10., 21)\n",
        "    coins_all = []\n",
        "    for src, tar in zip([0, 0], [1, 2]):\n",
        "        coins = []\n",
        "        for delay in deltats:\n",
        "            index = int(delay/dt)\n",
        "            if index > 0:\n",
        "                coins.append(np.dot(bin_spikes[src][:-index], bin_spikes[tar][index:]))\n",
        "            elif index < 0:\n",
        "                coins.append(np.dot(bin_spikes[tar][:index], bin_spikes[src][-index:]))\n",
        "            else:\n",
        "                coins.append(np.dot(bin_spikes[src], bin_spikes[tar]))\n",
        "        coins = np.array(coins)/np.sqrt(np.dot(bin_spikes[src], bin_spikes[src]))/np.sqrt(np.dot(bin_spikes[tar], bin_spikes[tar]))\n",
        "        coins_all.append(coins)\n",
        "\n",
        "    # visualize\n",
        "    plt.clf()\n",
        "    cs = ['b', 'r', 'g']  \n",
        "    plt.subplot(2,N,1)\n",
        "    plt.title('raster')\n",
        "    for nrn, c, l in zip(nrns, cs, range(N)):\n",
        "        plt.eventplot(nrn.spikes['times'], lineoffsets=2*l, colors=c)\n",
        "    plt.xlabel('Time(ms)')\n",
        "    plt.yticks(np.array(range(N))*2, ['E', r'$I_1$', r'$I_2$'])\n",
        "    plt.xlim([0., T])\n",
        "\n",
        "    # rate plots of population\n",
        "    plt.subplot(2,N,2)\n",
        "    plt.title('spike correlation')\n",
        "    plt.plot(deltats, coins_all[0], 'r', label=r'$E-I_1$')\n",
        "    plt.xlabel(r'$\\delta t$(ms)')\n",
        "    plt.ylabel('spike corr')\n",
        "    plt.ylim([0,1])\n",
        "    plt.legend()\n",
        "\n",
        "    plt.subplot(2,N,3)\n",
        "    plt.plot(deltats, coins_all[1], 'g', label=r'$E-I_2$')\n",
        "    plt.xlabel(r'$\\delta t$(ms)')\n",
        "    plt.ylabel('spike corr')\n",
        "    plt.ylim([0,1])\n",
        "    plt.legend()\n",
        "\n",
        "    # voltage trace\n",
        "    for id, c in zip(range(N), cs):\n",
        "        plt.subplot(2,N,id+N+1)\n",
        "        if id == 0:\n",
        "            plt.title('voltage trace')\n",
        "        plt_par = {'dt':dt, 'range_t':np.arange(0., T, dt), 'V_th':nrns[id].V_th}\n",
        "        plot_volt_trace(plt_par, nrns[id].v, np.array(nrns[id].spikes['times']), c=c)\n",
        "        plt.xlim([0., T])\n",
        "\n",
        "    plt.tight_layout()\n",
        "\n",
        "fig_EII, axes = plt.subplots(2, N,figsize=(5*N,8))\n",
        "widgets.interact(update_EII, Itype=['Icur', 'Gaussian', 'Poisson'], \n",
        "                 neuron_E=neuron_params.keys(), neuron_I1=neuron_params.keys(), neuron_I2=neuron_params.keys(), \n",
        "                 J_E1=(-50., 0., 0.1), J_E2=(-50., 0., 0.1), J_21=(-50., 0., 0.1));"
      ]
    },
    {
      "cell_type": "markdown",
      "metadata": {
        "id": "5FJIcuc_9FmU"
      },
      "source": [
        "## Describe\n",
        "- What are the effects of each inhibitory connection?"
      ]
    },
    {
      "cell_type": "markdown",
      "metadata": {
        "id": "ZFH_2_eQ9FmU"
      },
      "source": [
        "## Think\n",
        "\n",
        "- Does inhibitory connectivity always reduce the firing rate of excitatory neurons?\n",
        "- Does the input type influence the role of each connection? \n",
        "- What is dominant here, network connectivity or the neuron type? In other words which of your observation are invariant to change in neuron type and which are dependent on neuron type. "
      ]
    }
  ],
  "metadata": {
    "colab": {
      "collapsed_sections": [],
      "name": "lif_colab.ipynb",
      "provenance": []
    },
    "interpreter": {
      "hash": "9914d6bfacb954328c3ffb911a6400e44a72a30de8da69be678e590a88116170"
    },
    "kernelspec": {
      "display_name": "Python 3.9.7 64-bit ('base': conda)",
      "language": "python",
      "name": "python3"
    },
    "language_info": {
      "codemirror_mode": {
        "name": "ipython",
        "version": 3
      },
      "file_extension": ".py",
      "mimetype": "text/x-python",
      "name": "python",
      "nbconvert_exporter": "python",
      "pygments_lexer": "ipython3",
      "version": "3.9.7"
    },
    "orig_nbformat": 4
  },
  "nbformat": 4,
  "nbformat_minor": 0
}
